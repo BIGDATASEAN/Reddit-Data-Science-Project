{
 "cells": [
  {
   "cell_type": "markdown",
   "metadata": {
    "collapsed": true
   },
   "source": [
    "This noteboook is designed as a prototype script for grabbing articles from the JSON file.\n",
    "\n",
    "First let's create a small batch of the JSON objects."
   ]
  },
  {
   "cell_type": "code",
   "execution_count": 3,
   "metadata": {
    "collapsed": false
   },
   "outputs": [
    {
     "name": "stdout",
     "output_type": "stream",
     "text": [
      "['{\"score_hidden\":false,\"name\":\"t1_cnas8zv\",\"link_id\":\"t3_2qyr1a\",\"body\":\"Most of us have some family members like this. *Most* of my family is like this. \",\"downs\":0,\"created_utc\":\"1420070400\",\"score\":14,\"author\":\"YoungModern\",\"distinguished\":null,\"id\":\"cnas8zv\",\"archived\":false,\"parent_id\":\"t3_2qyr1a\",\"subreddit\":\"exmormon\",\"author_flair_css_class\":null,\"author_flair_text\":null,\"gilded\":0,\"retrieved_on\":1425124282,\"ups\":14,\"controversiality\":0,\"subreddit_id\":\"t5_2r0gj\",\"edited\":false}\\n', '{\"distinguished\":null,\"id\":\"cnas8zw\",\"archived\":false,\"author\":\"RedCoatsForever\",\"score\":3,\"created_utc\":\"1420070400\",\"downs\":0,\"body\":\"But Mill\\'s career was way better. Bentham is like, the Joseph Smith to Mill\\'s Brigham Young.\",\"link_id\":\"t3_2qv6c6\",\"name\":\"t1_cnas8zw\",\"score_hidden\":false,\"controversiality\":0,\"subreddit_id\":\"t5_2s4gt\",\"edited\":false,\"retrieved_on\":1425124282,\"ups\":3,\"author_flair_css_class\":\"on\",\"gilded\":0,\"author_flair_text\":\"Ontario\",\"subreddit\":\"CanadaPolitics\",\"parent_id\":\"t1_cnas2b6\"}\\n', '{\"score_hidden\":false,\"link_id\":\"t3_2qxefp\",\"name\":\"t1_cnas8zx\",\"created_utc\":\"1420070400\",\"downs\":0,\"body\":\"Mine uses a strait razor, and as much as i love the clippers i love the razor so much more. Then he follows it up with a warm towel. \\\\nI think i might go get a hair cut this week.\",\"distinguished\":null,\"id\":\"cnas8zx\",\"archived\":false,\"author\":\"vhisic\",\"score\":1,\"subreddit\":\"AdviceAnimals\",\"parent_id\":\"t3_2qxefp\",\"retrieved_on\":1425124282,\"ups\":1,\"author_flair_css_class\":null,\"author_flair_text\":null,\"gilded\":0,\"controversiality\":0,\"subreddit_id\":\"t5_2s7tt\",\"edited\":false}\\n', '{\"parent_id\":\"t3_2qys4x\",\"subreddit\":\"AdviceAnimals\",\"gilded\":0,\"author_flair_text\":null,\"author_flair_css_class\":null,\"retrieved_on\":1425124282,\"ups\":1,\"subreddit_id\":\"t5_2s7tt\",\"edited\":false,\"controversiality\":0,\"score_hidden\":false,\"name\":\"t1_cnas8zy\",\"link_id\":\"t3_2qys4x\",\"body\":\"[deleted]\",\"created_utc\":\"1420070400\",\"downs\":0,\"score\":1,\"author\":\"[deleted]\",\"archived\":false,\"distinguished\":null,\"id\":\"cnas8zy\"}\\n', '{\"body\":\"Very fast, thank you!\",\"created_utc\":\"1420070400\",\"downs\":0,\"author\":\"Mastersimpson\",\"score\":2,\"id\":\"cnas8zz\",\"distinguished\":null,\"archived\":false,\"score_hidden\":false,\"name\":\"t1_cnas8zz\",\"link_id\":\"t3_2qm5bi\",\"author_flair_css_class\":null,\"gilded\":0,\"author_flair_text\":null,\"retrieved_on\":1425124282,\"ups\":2,\"controversiality\":0,\"edited\":false,\"subreddit_id\":\"t5_2y51u\",\"parent_id\":\"t3_2qm5bi\",\"subreddit\":\"freedonuts\"}\\n', '{\"author\":\"BigGupp1\",\"score\":6,\"archived\":false,\"id\":\"cnas900\",\"distinguished\":null,\"body\":\"The guy is a professional, and very good at what he does. I highly doubt he misses often, if at all.\",\"created_utc\":\"1420070400\",\"downs\":0,\"name\":\"t1_cnas900\",\"link_id\":\"t3_2qxe1p\",\"score_hidden\":false,\"edited\":false,\"subreddit_id\":\"t5_2qh61\",\"controversiality\":0,\"author_flair_text\":null,\"gilded\":0,\"author_flair_css_class\":null,\"retrieved_on\":1425124282,\"ups\":6,\"parent_id\":\"t1_cnaqg2t\",\"subreddit\":\"WTF\"}\\n']\n"
     ]
    }
   ],
   "source": [
    "from itertools import islice\n",
    "with open(\"/Volumes/Seagate Backup Plus Drive 1/RC_2015-01\") as myfile:\n",
    "    head = list(islice(myfile, 6))\n",
    "print head"
   ]
  },
  {
   "cell_type": "code",
   "execution_count": null,
   "metadata": {
    "collapsed": true
   },
   "outputs": [],
   "source": []
  }
 ],
 "metadata": {
  "kernelspec": {
   "display_name": "Python 2",
   "language": "python",
   "name": "python2"
  },
  "language_info": {
   "codemirror_mode": {
    "name": "ipython",
    "version": 2
   },
   "file_extension": ".py",
   "mimetype": "text/x-python",
   "name": "python",
   "nbconvert_exporter": "python",
   "pygments_lexer": "ipython2",
   "version": "2.7.10"
  }
 },
 "nbformat": 4,
 "nbformat_minor": 0
}
