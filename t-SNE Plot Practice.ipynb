{
 "cells": [
  {
   "cell_type": "code",
   "execution_count": 4,
   "metadata": {
    "collapsed": true
   },
   "outputs": [],
   "source": [
    "def plot_model():\n",
    "\t\n",
    "\t\n",
    "\tww = np.array([[0, 0, 0], [0, 1, 1], [1, 0, 1], [1, 1, 1]])\n",
    "\tplot_labels = ['one','two','three','four']\n",
    "\tmodel = TSNE(n_components=2, random_state=0) #n_comp = 99\n",
    "\treturn model.fit_transform(X)"
   ]
  },
  {
   "cell_type": "code",
   "execution_count": 1,
   "metadata": {
    "collapsed": true
   },
   "outputs": [],
   "source": [
    "from sklearn.manifold import TSNE\n",
    "import seaborn\n",
    "#def tSNE_convert(subreddit_vector):\n",
    "    "
   ]
  },
  {
   "cell_type": "code",
   "execution_count": 7,
   "metadata": {
    "collapsed": false
   },
   "outputs": [
    {
     "data": {
      "text/html": [
       "\n",
       "\n",
       "<style>\n",
       "\n",
       "</style>\n",
       "\n",
       "<div id=\"fig_el5207845281323686752757554\"></div>\n",
       "<script>\n",
       "function mpld3_load_lib(url, callback){\n",
       "  var s = document.createElement('script');\n",
       "  s.src = url;\n",
       "  s.async = true;\n",
       "  s.onreadystatechange = s.onload = callback;\n",
       "  s.onerror = function(){console.warn(\"failed to load library \" + url);};\n",
       "  document.getElementsByTagName(\"head\")[0].appendChild(s);\n",
       "}\n",
       "\n",
       "if(typeof(mpld3) !== \"undefined\" && mpld3._mpld3IsLoaded){\n",
       "   // already loaded: just create the figure\n",
       "   !function(mpld3){\n",
       "       \n",
       "       mpld3.draw_figure(\"fig_el5207845281323686752757554\", {\"axes\": [{\"xlim\": [-0.20000000000000001, 1.2000000000000002], \"yscale\": \"linear\", \"axesbg\": \"#EEEEEE\", \"texts\": [{\"v_baseline\": \"auto\", \"h_anchor\": \"middle\", \"color\": \"#262626\", \"text\": \"Scatter Plot (with tooltips!)\", \"coordinates\": \"axes\", \"zorder\": 3, \"alpha\": 1, \"fontsize\": 20.0, \"position\": [0.5, 1.0224014336917562], \"rotation\": -0.0, \"id\": \"el520784531551312\"}], \"zoomable\": true, \"images\": [], \"xdomain\": [-0.20000000000000001, 1.2000000000000002], \"ylim\": [-0.20000000000000001, 1.2000000000000002], \"paths\": [], \"sharey\": [], \"sharex\": [], \"axesbgalpha\": null, \"axes\": [{\"scale\": \"linear\", \"tickformat\": null, \"grid\": {\"color\": \"#FFFFFF\", \"alpha\": 1.0, \"dasharray\": \"10,0\", \"gridOn\": true}, \"fontsize\": 10.0, \"position\": \"bottom\", \"nticks\": 9, \"tickvalues\": null}, {\"scale\": \"linear\", \"tickformat\": null, \"grid\": {\"color\": \"#FFFFFF\", \"alpha\": 1.0, \"dasharray\": \"10,0\", \"gridOn\": true}, \"fontsize\": 10.0, \"position\": \"left\", \"nticks\": 9, \"tickvalues\": null}], \"lines\": [], \"markers\": [], \"id\": \"el520784496808400\", \"ydomain\": [-0.20000000000000001, 1.2000000000000002], \"collections\": [{\"paths\": [[[[0.0, -0.5], [0.13260155, -0.5], [0.25978993539242673, -0.44731684579412084], [0.3535533905932738, -0.3535533905932738], [0.44731684579412084, -0.25978993539242673], [0.5, -0.13260155], [0.5, 0.0], [0.5, 0.13260155], [0.44731684579412084, 0.25978993539242673], [0.3535533905932738, 0.3535533905932738], [0.25978993539242673, 0.44731684579412084], [0.13260155, 0.5], [0.0, 0.5], [-0.13260155, 0.5], [-0.25978993539242673, 0.44731684579412084], [-0.3535533905932738, 0.3535533905932738], [-0.44731684579412084, 0.25978993539242673], [-0.5, 0.13260155], [-0.5, 0.0], [-0.5, -0.13260155], [-0.44731684579412084, -0.25978993539242673], [-0.3535533905932738, -0.3535533905932738], [-0.25978993539242673, -0.44731684579412084], [-0.13260155, -0.5], [0.0, -0.5]], [\"M\", \"C\", \"C\", \"C\", \"C\", \"C\", \"C\", \"C\", \"C\", \"Z\"]]], \"edgecolors\": [\"#000000\"], \"edgewidths\": [0.3], \"offsets\": \"data01\", \"yindex\": 1, \"id\": \"el520784531826640\", \"pathtransforms\": [[4.969039949999533, 0.0, 0.0, 4.969039949999533, 0.0, 0.0]], \"pathcoordinates\": \"display\", \"offsetcoordinates\": \"data\", \"zorder\": 1, \"xindex\": 0, \"alphas\": [null], \"facecolors\": [\"#0000FF\"]}], \"xscale\": \"linear\", \"bbox\": [0.125, 0.125, 0.77500000000000002, 0.77500000000000002]}], \"height\": 320.0, \"width\": 480.0, \"plugins\": [{\"type\": \"reset\"}, {\"enabled\": false, \"button\": true, \"type\": \"zoom\"}, {\"enabled\": false, \"button\": true, \"type\": \"boxzoom\"}, {\"voffset\": 10, \"labels\": [\"one\", \"two\", \"three\", \"four\"], \"hoffset\": 0, \"location\": \"mouse\", \"type\": \"tooltip\", \"id\": \"el520784531826640\"}], \"data\": {\"data01\": [[0.0, 0.0], [0.0, 1.0], [1.0, 0.0], [1.0, 1.0]]}, \"id\": \"el520784528132368\"});\n",
       "   }(mpld3);\n",
       "}else if(typeof define === \"function\" && define.amd){\n",
       "   // require.js is available: use it to load d3/mpld3\n",
       "   require.config({paths: {d3: \"https://mpld3.github.io/js/d3.v3.min\"}});\n",
       "   require([\"d3\"], function(d3){\n",
       "      window.d3 = d3;\n",
       "      mpld3_load_lib(\"https://mpld3.github.io/js/mpld3.v0.2.js\", function(){\n",
       "         \n",
       "         mpld3.draw_figure(\"fig_el5207845281323686752757554\", {\"axes\": [{\"xlim\": [-0.20000000000000001, 1.2000000000000002], \"yscale\": \"linear\", \"axesbg\": \"#EEEEEE\", \"texts\": [{\"v_baseline\": \"auto\", \"h_anchor\": \"middle\", \"color\": \"#262626\", \"text\": \"Scatter Plot (with tooltips!)\", \"coordinates\": \"axes\", \"zorder\": 3, \"alpha\": 1, \"fontsize\": 20.0, \"position\": [0.5, 1.0224014336917562], \"rotation\": -0.0, \"id\": \"el520784531551312\"}], \"zoomable\": true, \"images\": [], \"xdomain\": [-0.20000000000000001, 1.2000000000000002], \"ylim\": [-0.20000000000000001, 1.2000000000000002], \"paths\": [], \"sharey\": [], \"sharex\": [], \"axesbgalpha\": null, \"axes\": [{\"scale\": \"linear\", \"tickformat\": null, \"grid\": {\"color\": \"#FFFFFF\", \"alpha\": 1.0, \"dasharray\": \"10,0\", \"gridOn\": true}, \"fontsize\": 10.0, \"position\": \"bottom\", \"nticks\": 9, \"tickvalues\": null}, {\"scale\": \"linear\", \"tickformat\": null, \"grid\": {\"color\": \"#FFFFFF\", \"alpha\": 1.0, \"dasharray\": \"10,0\", \"gridOn\": true}, \"fontsize\": 10.0, \"position\": \"left\", \"nticks\": 9, \"tickvalues\": null}], \"lines\": [], \"markers\": [], \"id\": \"el520784496808400\", \"ydomain\": [-0.20000000000000001, 1.2000000000000002], \"collections\": [{\"paths\": [[[[0.0, -0.5], [0.13260155, -0.5], [0.25978993539242673, -0.44731684579412084], [0.3535533905932738, -0.3535533905932738], [0.44731684579412084, -0.25978993539242673], [0.5, -0.13260155], [0.5, 0.0], [0.5, 0.13260155], [0.44731684579412084, 0.25978993539242673], [0.3535533905932738, 0.3535533905932738], [0.25978993539242673, 0.44731684579412084], [0.13260155, 0.5], [0.0, 0.5], [-0.13260155, 0.5], [-0.25978993539242673, 0.44731684579412084], [-0.3535533905932738, 0.3535533905932738], [-0.44731684579412084, 0.25978993539242673], [-0.5, 0.13260155], [-0.5, 0.0], [-0.5, -0.13260155], [-0.44731684579412084, -0.25978993539242673], [-0.3535533905932738, -0.3535533905932738], [-0.25978993539242673, -0.44731684579412084], [-0.13260155, -0.5], [0.0, -0.5]], [\"M\", \"C\", \"C\", \"C\", \"C\", \"C\", \"C\", \"C\", \"C\", \"Z\"]]], \"edgecolors\": [\"#000000\"], \"edgewidths\": [0.3], \"offsets\": \"data01\", \"yindex\": 1, \"id\": \"el520784531826640\", \"pathtransforms\": [[4.969039949999533, 0.0, 0.0, 4.969039949999533, 0.0, 0.0]], \"pathcoordinates\": \"display\", \"offsetcoordinates\": \"data\", \"zorder\": 1, \"xindex\": 0, \"alphas\": [null], \"facecolors\": [\"#0000FF\"]}], \"xscale\": \"linear\", \"bbox\": [0.125, 0.125, 0.77500000000000002, 0.77500000000000002]}], \"height\": 320.0, \"width\": 480.0, \"plugins\": [{\"type\": \"reset\"}, {\"enabled\": false, \"button\": true, \"type\": \"zoom\"}, {\"enabled\": false, \"button\": true, \"type\": \"boxzoom\"}, {\"voffset\": 10, \"labels\": [\"one\", \"two\", \"three\", \"four\"], \"hoffset\": 0, \"location\": \"mouse\", \"type\": \"tooltip\", \"id\": \"el520784531826640\"}], \"data\": {\"data01\": [[0.0, 0.0], [0.0, 1.0], [1.0, 0.0], [1.0, 1.0]]}, \"id\": \"el520784528132368\"});\n",
       "      });\n",
       "    });\n",
       "}else{\n",
       "    // require.js not available: dynamically load d3 & mpld3\n",
       "    mpld3_load_lib(\"https://mpld3.github.io/js/d3.v3.min.js\", function(){\n",
       "         mpld3_load_lib(\"https://mpld3.github.io/js/mpld3.v0.2.js\", function(){\n",
       "                 \n",
       "                 mpld3.draw_figure(\"fig_el5207845281323686752757554\", {\"axes\": [{\"xlim\": [-0.20000000000000001, 1.2000000000000002], \"yscale\": \"linear\", \"axesbg\": \"#EEEEEE\", \"texts\": [{\"v_baseline\": \"auto\", \"h_anchor\": \"middle\", \"color\": \"#262626\", \"text\": \"Scatter Plot (with tooltips!)\", \"coordinates\": \"axes\", \"zorder\": 3, \"alpha\": 1, \"fontsize\": 20.0, \"position\": [0.5, 1.0224014336917562], \"rotation\": -0.0, \"id\": \"el520784531551312\"}], \"zoomable\": true, \"images\": [], \"xdomain\": [-0.20000000000000001, 1.2000000000000002], \"ylim\": [-0.20000000000000001, 1.2000000000000002], \"paths\": [], \"sharey\": [], \"sharex\": [], \"axesbgalpha\": null, \"axes\": [{\"scale\": \"linear\", \"tickformat\": null, \"grid\": {\"color\": \"#FFFFFF\", \"alpha\": 1.0, \"dasharray\": \"10,0\", \"gridOn\": true}, \"fontsize\": 10.0, \"position\": \"bottom\", \"nticks\": 9, \"tickvalues\": null}, {\"scale\": \"linear\", \"tickformat\": null, \"grid\": {\"color\": \"#FFFFFF\", \"alpha\": 1.0, \"dasharray\": \"10,0\", \"gridOn\": true}, \"fontsize\": 10.0, \"position\": \"left\", \"nticks\": 9, \"tickvalues\": null}], \"lines\": [], \"markers\": [], \"id\": \"el520784496808400\", \"ydomain\": [-0.20000000000000001, 1.2000000000000002], \"collections\": [{\"paths\": [[[[0.0, -0.5], [0.13260155, -0.5], [0.25978993539242673, -0.44731684579412084], [0.3535533905932738, -0.3535533905932738], [0.44731684579412084, -0.25978993539242673], [0.5, -0.13260155], [0.5, 0.0], [0.5, 0.13260155], [0.44731684579412084, 0.25978993539242673], [0.3535533905932738, 0.3535533905932738], [0.25978993539242673, 0.44731684579412084], [0.13260155, 0.5], [0.0, 0.5], [-0.13260155, 0.5], [-0.25978993539242673, 0.44731684579412084], [-0.3535533905932738, 0.3535533905932738], [-0.44731684579412084, 0.25978993539242673], [-0.5, 0.13260155], [-0.5, 0.0], [-0.5, -0.13260155], [-0.44731684579412084, -0.25978993539242673], [-0.3535533905932738, -0.3535533905932738], [-0.25978993539242673, -0.44731684579412084], [-0.13260155, -0.5], [0.0, -0.5]], [\"M\", \"C\", \"C\", \"C\", \"C\", \"C\", \"C\", \"C\", \"C\", \"Z\"]]], \"edgecolors\": [\"#000000\"], \"edgewidths\": [0.3], \"offsets\": \"data01\", \"yindex\": 1, \"id\": \"el520784531826640\", \"pathtransforms\": [[4.969039949999533, 0.0, 0.0, 4.969039949999533, 0.0, 0.0]], \"pathcoordinates\": \"display\", \"offsetcoordinates\": \"data\", \"zorder\": 1, \"xindex\": 0, \"alphas\": [null], \"facecolors\": [\"#0000FF\"]}], \"xscale\": \"linear\", \"bbox\": [0.125, 0.125, 0.77500000000000002, 0.77500000000000002]}], \"height\": 320.0, \"width\": 480.0, \"plugins\": [{\"type\": \"reset\"}, {\"enabled\": false, \"button\": true, \"type\": \"zoom\"}, {\"enabled\": false, \"button\": true, \"type\": \"boxzoom\"}, {\"voffset\": 10, \"labels\": [\"one\", \"two\", \"three\", \"four\"], \"hoffset\": 0, \"location\": \"mouse\", \"type\": \"tooltip\", \"id\": \"el520784531826640\"}], \"data\": {\"data01\": [[0.0, 0.0], [0.0, 1.0], [1.0, 0.0], [1.0, 1.0]]}, \"id\": \"el520784528132368\"});\n",
       "            })\n",
       "         });\n",
       "}\n",
       "</script>"
      ],
      "text/plain": [
       "<IPython.core.display.HTML object>"
      ]
     },
     "execution_count": 7,
     "metadata": {},
     "output_type": "execute_result"
    }
   ],
   "source": [
    "import matplotlib.pyplot as plt\n",
    "import numpy as np\n",
    "import mpld3\n",
    "\n",
    "fig, ax = plt.subplots(subplot_kw=dict(axisbg='#EEEEEE'))\n",
    "\n",
    "scatter = ax.scatter(xx,\n",
    "                     yy,\n",
    "                     cmap=plt.cm.jet)\n",
    "\n",
    "ax.grid(color='white', linestyle='solid')\n",
    "\n",
    "ax.set_title(\"Scatter Plot (with tooltips!)\", size=20)\n",
    "\n",
    "labels = ['one','two','three','four']\n",
    "tooltip = mpld3.plugins.PointLabelTooltip(scatter, labels=labels)\n",
    "mpld3.plugins.connect(fig, tooltip)\n",
    "\n",
    "mpld3.display()"
   ]
  },
  {
   "cell_type": "code",
   "execution_count": 4,
   "metadata": {
    "collapsed": false
   },
   "outputs": [
    {
     "data": {
      "text/plain": [
       "<matplotlib.collections.PathCollection at 0x10a6d9d90>"
      ]
     },
     "execution_count": 4,
     "metadata": {},
     "output_type": "execute_result"
    },
    {
     "data": {
      "image/png": "[encoded data removed]",
      "text/plain": [
       "<matplotlib.figure.Figure at 0x10dd5a450>"
      ]
     },
     "metadata": {},
     "output_type": "display_data"
    }
   ],
   "source": [
    "ww = np.array([[0, 0, 0], [0, 1, 1], [1, 0, 1], [1, 1, 1]])\n",
    "xx = ww[:,0]\n",
    "yy = ww[:,1]\n",
    "import matplotlib.pyplot as plt\n",
    "%matplotlib inline\n",
    "plt.scatter(xx,yy)"
   ]
  },
  {
   "cell_type": "code",
   "execution_count": null,
   "metadata": {
    "collapsed": true
   },
   "outputs": [],
   "source": []
  }
 ],
 "metadata": {
  "kernelspec": {
   "display_name": "Python 2",
   "language": "python",
   "name": "python2"
  },
  "language_info": {
   "codemirror_mode": {
    "name": "ipython",
    "version": 2
   },
   "file_extension": ".py",
   "mimetype": "text/x-python",
   "name": "python",
   "nbconvert_exporter": "python",
   "pygments_lexer": "ipython2",
   "version": "2.7.10"
  }
 },
 "nbformat": 4,
 "nbformat_minor": 0
}
