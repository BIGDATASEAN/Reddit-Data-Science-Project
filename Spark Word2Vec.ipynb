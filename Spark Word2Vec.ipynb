{
 "cells": [
  {
   "cell_type": "code",
   "execution_count": 1,
   "metadata": {
    "collapsed": false
   },
   "outputs": [
    {
     "name": "stdout",
     "output_type": "stream",
     "text": [
      "driver: 1.03350733615\n",
      "passenger: 0.944847088847\n",
      "pilot: 0.908348248638\n",
      "chelsea: 0.872543459263\n",
      "shot: 0.86164787136\n",
      "cable: 0.849807513877\n",
      "race: 0.833453580016\n",
      "serie: 0.832656589583\n",
      "truck: 0.815029579127\n",
      "cruising: 0.812608082347\n",
      "balloon: 0.800493005815\n",
      "kirby: 0.798020377536\n",
      "geoff: 0.793196150906\n",
      "nightclub: 0.792771529208\n",
      "mctaggart: 0.790855621308\n",
      "clockwork: 0.784942739176\n",
      "beatle: 0.775442932018\n",
      "scorer: 0.771967328793\n",
      "factory: 0.768337945107\n",
      "crashes: 0.762684736041\n",
      "club: 0.755246588252\n",
      "raf: 0.754225217539\n",
      "harrier: 0.751889687692\n",
      "manager: 0.749972015385\n",
      "defensive: 0.739095922859\n",
      "racing: 0.737298510778\n",
      "jet: 0.735815061024\n",
      "broadcaster: 0.733398503053\n",
      "flying: 0.730142470844\n",
      "crosley: 0.729688416147\n",
      "hawk: 0.727000710842\n",
      "correspondent: 0.724810592748\n",
      "pennant: 0.722915305756\n",
      "cap: 0.722215622689\n",
      "sonic: 0.720732935639\n",
      "av: 0.720100839147\n",
      "penthouse: 0.719273072022\n",
      "jockey: 0.719209609665\n",
      "aki: 0.718655669339\n",
      "mogul: 0.717316566372\n"
     ]
    }
   ],
   "source": [
    "from pyspark import SparkContext\n",
    "from pyspark.mllib.feature import Word2Vec\n",
    "\n",
    "sc = SparkContext()\n",
    "inp = sc.textFile(\"text8_linessmall\").map(lambda row: row.split(\" \"))\n",
    "\n",
    "word2vec = Word2Vec()\n",
    "model = word2vec.fit(inp)\n",
    "\n",
    "synonyms = model.findSynonyms('car', 40)\n",
    "\n",
    "for word, cosine_distance in synonyms:\n",
    "    print \"{}: {}\".format(word, cosine_distance)"
   ]
  },
  {
   "cell_type": "code",
   "execution_count": 9,
   "metadata": {
    "collapsed": false
   },
   "outputs": [
    {
     "ename": "AttributeError",
     "evalue": "'Word2VecModel' object has no attribute 'save'",
     "output_type": "error",
     "traceback": [
      "\u001b[0;31m---------------------------------------------------------------------------\u001b[0m",
      "\u001b[0;31mAttributeError\u001b[0m                            Traceback (most recent call last)",
      "\u001b[0;32m<ipython-input-9-c85cce4f2920>\u001b[0m in \u001b[0;36m<module>\u001b[0;34m()\u001b[0m\n\u001b[1;32m      1\u001b[0m \u001b[0;31m# Save and load model\u001b[0m\u001b[0;34m\u001b[0m\u001b[0;34m\u001b[0m\u001b[0m\n\u001b[0;32m----> 2\u001b[0;31m \u001b[0mmodel\u001b[0m\u001b[0;34m.\u001b[0m\u001b[0msave\u001b[0m\u001b[0;34m(\u001b[0m\u001b[0msc\u001b[0m\u001b[0;34m,\u001b[0m \u001b[0;34m\"test8_model\"\u001b[0m\u001b[0;34m)\u001b[0m\u001b[0;34m\u001b[0m\u001b[0m\n\u001b[0m",
      "\u001b[0;31mAttributeError\u001b[0m: 'Word2VecModel' object has no attribute 'save'"
     ]
    }
   ],
   "source": [
    "# Save and load model\n",
    "model.call()"
   ]
  },
  {
   "cell_type": "code",
   "execution_count": 8,
   "metadata": {
    "collapsed": false
   },
   "outputs": [
    {
     "data": {
      "text/plain": [
       "pyspark.mllib.feature.Word2VecModel"
      ]
     },
     "execution_count": 8,
     "metadata": {},
     "output_type": "execute_result"
    }
   ],
   "source": [
    "import pickle\n",
    "pickle.dumps"
   ]
  },
  {
   "cell_type": "code",
   "execution_count": null,
   "metadata": {
    "collapsed": true
   },
   "outputs": [],
   "source": []
  }
 ],
 "metadata": {
  "kernelspec": {
   "display_name": "Python 2",
   "language": "python",
   "name": "python2"
  },
  "language_info": {
   "codemirror_mode": {
    "name": "ipython",
    "version": 2
   },
   "file_extension": ".py",
   "mimetype": "text/x-python",
   "name": "python",
   "nbconvert_exporter": "python",
   "pygments_lexer": "ipython2",
   "version": "2.7.10"
  }
 },
 "nbformat": 4,
 "nbformat_minor": 0
}
