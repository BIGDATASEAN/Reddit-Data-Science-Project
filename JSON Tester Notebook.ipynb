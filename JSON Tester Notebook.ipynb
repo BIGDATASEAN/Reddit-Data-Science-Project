{
 "cells": [
  {
   "cell_type": "markdown",
   "metadata": {
    "collapsed": true
   },
   "source": [
    "This noteboook is designed as a prototype script for grabbing articles from the JSON file.\n",
    "\n",
    "First let's create a small batch of the JSON objects."
   ]
  },
  {
   "cell_type": "code",
   "execution_count": 2,
   "metadata": {
    "collapsed": false
   },
   "outputs": [],
   "source": [
    "pathway = \"/Volumes/Seagate Backup Plus Drive 1/RC_2015-01\""
   ]
  },
  {
   "cell_type": "code",
   "execution_count": 17,
   "metadata": {
    "collapsed": false
   },
   "outputs": [],
   "source": [
    "import ijson\n",
    "\n",
    "count = 0\n",
    "def parse_time():\n",
    "    count = 0\n",
    "    #parser = ijson.parse(open('/Volumes/Seagate Backup Plus Drive 1/RC_2015-01'))\n",
    "    while count < 20:\n",
    "        for item in ijson.items(pathway,\"item\"):\n",
    "            print item\n",
    "            count += 1"
   ]
  },
  {
   "cell_type": "code",
   "execution_count": 4,
   "metadata": {
    "collapsed": false
   },
   "outputs": [
    {
     "name": "stdout",
     "output_type": "stream",
     "text": [
      "exmormon\n",
      "Most of us have some family members like this. *Most* of my family is like this. \n",
      "\n",
      "\n",
      "CanadaPolitics\n",
      "But Mill's career was way better. Bentham is like, the Joseph Smith to Mill's Brigham Young.\n",
      "\n",
      "\n",
      "AdviceAnimals\n",
      "Mine uses a strait razor, and as much as i love the clippers i love the razor so much more. Then he follows it up with a warm towel. \n",
      "I think i might go get a hair cut this week.\n",
      "\n",
      "\n",
      "AdviceAnimals\n",
      "[deleted]\n",
      "\n",
      "\n",
      "freedonuts\n",
      "Very fast, thank you!\n",
      "\n",
      "\n",
      "WTF\n",
      "The guy is a professional, and very good at what he does. I highly doubt he misses often, if at all.\n",
      "\n",
      "\n",
      "needadvice\n",
      "This is a great question, and I want to thank you for asking it. However, I don't have any answers. I'm interested in learning more myself. \n",
      "\n",
      "\n",
      "summonerschool\n",
      "Is the IE-Shiv-Ghostblade-Zerks-LW-BT Still not the main graves build? 60% crit I think massive Attack speed and decent AD plus Pen?\n",
      "\n",
      "\n",
      "BostonBruins\n",
      ":D.\n",
      "\n",
      "\n",
      "sausagetalk\n",
      "I don't know how to describe it.  Gently pinched two spots weiner length apart and just twisted them about 3or 4 times.\n",
      "\n",
      "\n",
      "hiphopheads\n",
      "says you my g\n",
      "\n",
      "\n",
      "funny\n",
      "/r/Im14andthisisfunny\n",
      "\n",
      "\n",
      "explainlikeimfive\n",
      "i love this music!\n",
      "\n",
      "\n",
      "Naruto\n",
      "You mean the village hidden in filler complaints, right?\n",
      "\n",
      "\n",
      "hockey\n",
      "I always forget how to bold on mobile. \n",
      "\n",
      "\n",
      "GCXRep\n",
      "[deleted]\n",
      "\n",
      "\n",
      "Games\n",
      "If you enjoy deep, 100 hour RPGs, then definitely worth the money.\n",
      "\n",
      "\n",
      "BBW\n",
      "[deleted]\n",
      "\n",
      "\n",
      "knives\n",
      "Haha awesome man I got it from my grandpa this Christmas as well.\n",
      "\n",
      "\n",
      "LSD\n",
      "I completely agree. I've spent that long staring at it sober..\n",
      "\n",
      "\n"
     ]
    }
   ],
   "source": [
    "import json\n",
    "\n",
    "count = 0\n",
    "\n",
    "with open(pathway) as myfile:\n",
    "    for item in myfile:\n",
    "        if count < 20:\n",
    "            obb = json.loads(item)\n",
    "            print obb['subreddit']\n",
    "            print obb['body']\n",
    "            print '\\n'\n",
    "            count += 1\n",
    "        else:\n",
    "            break\n",
    "        \n",
    "    #head = [next(myfile) for x in xrange(20)]\n",
    "#print head"
   ]
  },
  {
   "cell_type": "code",
   "execution_count": 28,
   "metadata": {
    "collapsed": false
   },
   "outputs": [],
   "source": [
    "import json"
   ]
  },
  {
   "cell_type": "code",
   "execution_count": null,
   "metadata": {
    "collapsed": true
   },
   "outputs": [],
   "source": []
  }
 ],
 "metadata": {
  "kernelspec": {
   "display_name": "Python 2",
   "language": "python",
   "name": "python2"
  },
  "language_info": {
   "codemirror_mode": {
    "name": "ipython",
    "version": 2
   },
   "file_extension": ".py",
   "mimetype": "text/x-python",
   "name": "python",
   "nbconvert_exporter": "python",
   "pygments_lexer": "ipython2",
   "version": "2.7.10"
  }
 },
 "nbformat": 4,
 "nbformat_minor": 0
}
