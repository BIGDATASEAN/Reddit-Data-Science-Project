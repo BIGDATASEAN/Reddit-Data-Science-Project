{
 "cells": [
  {
   "cell_type": "markdown",
   "metadata": {
    "collapsed": true
   },
   "source": [
    "This noteboook is designed as a prototype script for grabbing articles from the JSON file.\n",
    "\n",
    "First let's create a small batch of the JSON objects."
   ]
  },
  {
   "cell_type": "code",
   "execution_count": 97,
   "metadata": {
    "collapsed": false
   },
   "outputs": [],
   "source": [
    "pathway = \"/Volumes/Seagate Backup Plus Drive 1/RC_2015-01\""
   ]
  },
  {
   "cell_type": "code",
   "execution_count": 192,
   "metadata": {
    "collapsed": false
   },
   "outputs": [],
   "source": [
    "import json\n",
    "import shelve\n",
    "from nltk.corpus import stopwords\n",
    "stopwords = stopwords.words('english')\n",
    "stopwords.append('[deleted]')\n",
    "stopwords.append('deleted')"
   ]
  },
  {
   "cell_type": "code",
   "execution_count": 193,
   "metadata": {
    "collapsed": false
   },
   "outputs": [
    {
     "name": "stdout",
     "output_type": "stream",
     "text": [
      "[u'i', u'me', u'my', u'myself', u'we', u'our', u'ours', u'ourselves', u'you', u'your', u'yours', u'yourself', u'yourselves', u'he', u'him', u'his', u'himself', u'she', u'her', u'hers', u'herself', u'it', u'its', u'itself', u'they', u'them', u'their', u'theirs', u'themselves', u'what', u'which', u'who', u'whom', u'this', u'that', u'these', u'those', u'am', u'is', u'are', u'was', u'were', u'be', u'been', u'being', u'have', u'has', u'had', u'having', u'do', u'does', u'did', u'doing', u'a', u'an', u'the', u'and', u'but', u'if', u'or', u'because', u'as', u'until', u'while', u'of', u'at', u'by', u'for', u'with', u'about', u'against', u'between', u'into', u'through', u'during', u'before', u'after', u'above', u'below', u'to', u'from', u'up', u'down', u'in', u'out', u'on', u'off', u'over', u'under', u'again', u'further', u'then', u'once', u'here', u'there', u'when', u'where', u'why', u'how', u'all', u'any', u'both', u'each', u'few', u'more', u'most', u'other', u'some', u'such', u'no', u'nor', u'not', u'only', u'own', u'same', u'so', u'than', u'too', u'very', u's', u't', u'can', u'will', u'just', u'don', u'should', u'now', '[deleted]', 'deleted']\n"
     ]
    }
   ],
   "source": [
    "print stopwords"
   ]
  },
  {
   "cell_type": "markdown",
   "metadata": {},
   "source": [
    "## Function to quickly make a python shelve database"
   ]
  },
  {
   "cell_type": "code",
   "execution_count": 100,
   "metadata": {
    "collapsed": false
   },
   "outputs": [],
   "source": [
    "def json_to_db(db_name,num_of_comments):\n",
    "    \n",
    "\n",
    "    '''\n",
    "    Goes through the txt file, grabs the JSON objects in it.\n",
    "    Uses shelve to create a database, with key= Subreddit and continually appending text to value.\n",
    "    '''\n",
    "    # open database\n",
    "    d = shelve.open(db_name)\n",
    "    \n",
    "    # Set counter\n",
    "    count = 0\n",
    "    \n",
    "    # Iterate through N JSON objects in file\n",
    "    with open(pathway) as myfile:\n",
    "        for item in myfile:\n",
    "            if count < num_of_comments:\n",
    "                \n",
    "                # Load the JSON object\n",
    "                json_object = json.loads(item)\n",
    "                \n",
    "                # Now append additional text to database\n",
    "                if d.has_key(json_object['subreddit']):\n",
    "                    \n",
    "                    temp = d[json_object['subreddit']]      # extracts the copy\n",
    "                    temp = temp+' '+json_object['body']     # mutates the copy\n",
    "                    d[json_object['subreddit']] = temp      # stores the copy right back, to persist it\n",
    "\n",
    "                # Or set the first entry for that subreddit\n",
    "                else:\n",
    "                    d[json_object['subreddit']] = json_object['body']\n",
    "                \n",
    "    \n",
    "                count += 1\n",
    "            else:\n",
    "                d.close()\n",
    "                break"
   ]
  },
  {
   "cell_type": "code",
   "execution_count": 101,
   "metadata": {
    "collapsed": false
   },
   "outputs": [],
   "source": [
    "json_to_db('10000_comments',10000)"
   ]
  },
  {
   "cell_type": "code",
   "execution_count": 102,
   "metadata": {
    "collapsed": true
   },
   "outputs": [],
   "source": [
    "d = shelve.open('10000_comments.db')"
   ]
  },
  {
   "cell_type": "code",
   "execution_count": 103,
   "metadata": {
    "collapsed": false
   },
   "outputs": [
    {
     "data": {
      "text/plain": [
       "u\"Thanks! Now on to NYE makeup! [deleted] Right!? My face loves me, my wallet hates me.  Simple and Tasteful. :) Dipbrow is definitely something that has to be learned haha. I just barely stick the end of my brush into the pot and thats usually enough to cover my whole brow. But I also use the brow wiz first to outline my brows.  They look great on you, especially the red. How much do these cost if you don't mind me asking? Yeah she did that in high school...I've also recently read that she lied about being molested. Not sure how I feel about her now especially since she hardly does beauty vids anymore. She def is lacking when it comes to effort in her vids. I mixed a little of a Tarte stain (berry colored) with the baby lips clear chapstick, I've had the Tarte stain forever and the label is worn off so i dont know the exact color but i'll try and find out! and thank you!! Seriously. The recommendations for Gerard cosmetics need to chill the fuck out. Sona Gasparian's no makeup-makeup tutorial is the best one I've ever seen. Her YouTube username is makeupbysona.  You look awesome! I wish my eyebrows were that nice \\U0001f61e OH! well they're great and have a ton of eyelashes for super cheap I believe these ones are [jo jo](http://ohmy-lash.com/collections/new-sweetheart-collectiion/products/jo-jo) from the sweetheart collection, and it looks like they took down the subscription only option so you can \\nbuy them individually again! It doesn't take much water, I get my fingers wet with hot water and gently press my fingers together over my lashes.  No pulling, just touching them together around the lashes.  Agreed. Beauty gurus are lacking beauty vids and make up for it with hauls, q&amp;a's, sponsored vids, and vlogs. Those are cool every once in awhile but I watch beauty vids for help with beauty techniques, tutorials, and reviews on products I'm interested in. oh no! I love her, I hope it's just rumors :( Thanks! Now on to NYE makeup! [deleted] Right!? My face loves me, my wallet hates me.  Simple and Tasteful. :) Dipbrow is definitely something that has to be learned haha. I just barely stick the end of my brush into the pot and thats usually enough to cover my whole brow. But I also use the brow wiz first to outline my brows.  They look great on you, especially the red. How much do these cost if you don't mind me asking? Yeah she did that in high school...I've also recently read that she lied about being molested. Not sure how I feel about her now especially since she hardly does beauty vids anymore. She def is lacking when it comes to effort in her vids. I mixed a little of a Tarte stain (berry colored) with the baby lips clear chapstick, I've had the Tarte stain forever and the label is worn off so i dont know the exact color but i'll try and find out! and thank you!! Seriously. The recommendations for Gerard cosmetics need to chill the fuck out. Sona Gasparian's no makeup-makeup tutorial is the best one I've ever seen. Her YouTube username is makeupbysona.  You look awesome! I wish my eyebrows were that nice \\U0001f61e OH! well they're great and have a ton of eyelashes for super cheap I believe these ones are [jo jo](http://ohmy-lash.com/collections/new-sweetheart-collectiion/products/jo-jo) from the sweetheart collection, and it looks like they took down the subscription only option so you can \\nbuy them individually again! It doesn't take much water, I get my fingers wet with hot water and gently press my fingers together over my lashes.  No pulling, just touching them together around the lashes.  Agreed. Beauty gurus are lacking beauty vids and make up for it with hauls, q&amp;a's, sponsored vids, and vlogs. Those are cool every once in awhile but I watch beauty vids for help with beauty techniques, tutorials, and reviews on products I'm interested in. oh no! I love her, I hope it's just rumors :(\""
      ]
     },
     "execution_count": 103,
     "metadata": {},
     "output_type": "execute_result"
    }
   ],
   "source": [
    "d['MakeupAddiction']"
   ]
  },
  {
   "cell_type": "markdown",
   "metadata": {},
   "source": [
    "## Tokenization and Cleaning Text\n",
    "\n",
    "Here we focus on converting the large string into a list of words (tokenized and stopwords removed)"
   ]
  },
  {
   "cell_type": "code",
   "execution_count": 109,
   "metadata": {
    "collapsed": false
   },
   "outputs": [],
   "source": [
    "from nltk.tokenize import RegexpTokenizer\n",
    "\n",
    "tokenizer = RegexpTokenizer(r'\\w+')\n",
    "\n",
    "# Output tokenizes text and removes any stopwords and then outptus lowercased words\n",
    "output = [word.lower() for word in tokenizer.tokenize(d['MakeupAddiction']) if not word.lower() in stopwords]"
   ]
  },
  {
   "cell_type": "code",
   "execution_count": 113,
   "metadata": {
    "collapsed": false
   },
   "outputs": [
    {
     "data": {
      "text/plain": [
       "722"
      ]
     },
     "execution_count": 113,
     "metadata": {},
     "output_type": "execute_result"
    }
   ],
   "source": [
    "len(tokenizer.tokenize(d['MakeupAddiction']))"
   ]
  },
  {
   "cell_type": "code",
   "execution_count": 119,
   "metadata": {
    "collapsed": false
   },
   "outputs": [
    {
     "data": {
      "text/plain": [
       "390"
      ]
     },
     "execution_count": 119,
     "metadata": {},
     "output_type": "execute_result"
    }
   ],
   "source": [
    "len(output)"
   ]
  },
  {
   "cell_type": "markdown",
   "metadata": {},
   "source": [
    "## Final word cleaner code is below"
   ]
  },
  {
   "cell_type": "code",
   "execution_count": 120,
   "metadata": {
    "collapsed": false
   },
   "outputs": [],
   "source": [
    "from nltk.tokenize import RegexpTokenizer\n",
    "tokenizer = RegexpTokenizer(r'\\w+')\n",
    "\n",
    "def text_cleaner(text):\n",
    "    '''\n",
    "    INPUT: string of body text\n",
    "    OUTPUT: List of tokenized lower case words with stopwords removed\n",
    "    '''\n",
    "    \n",
    "    \n",
    "    # Output tokenizes text and removes any stopwords and then outptus lowercased words\n",
    "    return [word.lower() for word in tokenizer.tokenize(text) if not word.lower() in stopwords]\n",
    "    \n",
    "#text_cleaner(d['MakeupAddiction'])"
   ]
  },
  {
   "cell_type": "markdown",
   "metadata": {},
   "source": [
    "# MONGO DB Setup\n",
    "\n",
    "This focuses on setting up a MongoDB and Push the new body of comments to the collection"
   ]
  },
  {
   "cell_type": "code",
   "execution_count": 180,
   "metadata": {
    "collapsed": false
   },
   "outputs": [],
   "source": [
    "import pymongo\n",
    "\n",
    "# Connect with db\n",
    "#reddit_data = pymongo.Connection()['reddit_database']['comments']\n",
    "\n",
    "def update_mongo(collection,subreddit,comment):\n",
    "    '''\n",
    "    INPUT: subreddit name and comment as a cleaned list of words\n",
    "    RESULT: Updates MongoDB reddit_data database with $push\n",
    "    '''\n",
    "    \n",
    "    # NOTE: This pushes the entire list, so final result is a list of comment lists\n",
    "    # Use itertools.chain.from_iterable(reddit_data[subreddit]) to combine this for doc2vec\n",
    "    collection.update({'subreddit': subreddit},\n",
    "                      {'$push':{'body':comment}},upsert = True,\n",
    "                      safe=True)\n"
   ]
  },
  {
   "cell_type": "code",
   "execution_count": 181,
   "metadata": {
    "collapsed": true
   },
   "outputs": [],
   "source": [
    "comment_test = text_cleaner(d['MakeupAddiction'])\n",
    "update_mongo(reddit_data,'MakeupAddiction',comment_test)"
   ]
  },
  {
   "cell_type": "markdown",
   "metadata": {},
   "source": [
    "## Clears database"
   ]
  },
  {
   "cell_type": "code",
   "execution_count": 172,
   "metadata": {
    "collapsed": false
   },
   "outputs": [],
   "source": [
    "def clear_mongo(mongodb):\n",
    "    '''\n",
    "    INPUT: A mongodb database\n",
    "    RESULT: Based on user input, clears database.\n",
    "    '''\n",
    "    ans = raw_input('WARNING: THIS WILL CLEAR THE DATABASE. ARE YOU SURE? y/n')\n",
    "    if ans == 'y':\n",
    "        mongodb.remove()\n",
    "        print 'Database has been cleared.'\n",
    "    else:\n",
    "        print 'Database not cleared.'\n",
    "        \n",
    "        \n",
    "#clear_mongo(reddit_data)"
   ]
  },
  {
   "cell_type": "markdown",
   "metadata": {},
   "source": [
    "## Take in SubReddit, return document list of words"
   ]
  },
  {
   "cell_type": "code",
   "execution_count": 174,
   "metadata": {
    "collapsed": true
   },
   "outputs": [],
   "source": [
    "import itertools \n",
    "\n",
    "def get_doc_list(subreddit):\n",
    "    '''\n",
    "    INPUT: Subreddit name\n",
    "    OUTPUT: A document = list of words for that subreddit\n",
    "    '''\n",
    "    \n",
    "    for obj in reddit_data.find({'subreddit':'MakeupAddiction'}):\n",
    "        return list(itertools.chain.from_iterable(obj['body']))"
   ]
  },
  {
   "cell_type": "markdown",
   "metadata": {},
   "source": [
    "## Create a MongoDB "
   ]
  },
  {
   "cell_type": "code",
   "execution_count": 175,
   "metadata": {
    "collapsed": true
   },
   "outputs": [],
   "source": [
    "import pymongo\n",
    "\n",
    "def create_or_connect(database,collection):\n",
    "    '''\n",
    "    INPUT: Database name (str) and collection (name)\n",
    "    OUTPUT: Either creates the database or connects to it if it already exists.\n",
    "            Returns the collections in the database cursor.\n",
    "    '''\n",
    "    \n",
    "    return pymongo.Connection()[database][collection]\n",
    "\n",
    "#create_or_connect('check','test_coll') works!"
   ]
  },
  {
   "cell_type": "markdown",
   "metadata": {},
   "source": [
    "## Create MongoDB from my Reddit Data"
   ]
  },
  {
   "cell_type": "code",
   "execution_count": 182,
   "metadata": {
    "collapsed": false
   },
   "outputs": [
    {
     "name": "stdout",
     "output_type": "stream",
     "text": [
      "WARNING: THIS WILL CLEAR THE DATABASE. ARE YOU SURE? y/ny\n",
      "Database has been cleared.\n"
     ]
    }
   ],
   "source": [
    "# Clear the db first\n",
    "clear_mongo(reddit_data)"
   ]
  },
  {
   "cell_type": "code",
   "execution_count": 185,
   "metadata": {
    "collapsed": false
   },
   "outputs": [],
   "source": [
    "# Make or Connect to Database\n",
    "reddit_data = create_or_connect('reddit_database','reddit_comments')\n",
    "\n",
    "def reddit_data_pusher(db_name,num_of_comments):\n",
    "    \n",
    "    '''\n",
    "    Goes through the txt file, grabs the JSON objects in it.\n",
    "    Uses MongoDB to create a database, with key= Subreddit and continually appending clean text word list to value.\n",
    "    '''\n",
    "    \n",
    "    # Set counter\n",
    "    count = 0\n",
    "    \n",
    "    # Iterate through N JSON objects in file\n",
    "    with open(pathway) as myfile:\n",
    "        for item in myfile:\n",
    "            if count < num_of_comments:\n",
    "                \n",
    "                # Load the JSON object\n",
    "                json_object = json.loads(item)\n",
    "                \n",
    "                # Clean and tokenize text\n",
    "                body = text_cleaner(json_object['body'])\n",
    "                \n",
    "                # $push to MongoDB\n",
    "                update_mongo(reddit_data,json_object['subreddit'],body)\n",
    "                \n",
    "                # For safety puposes\n",
    "                count += 1\n",
    "            else:\n",
    "                break"
   ]
  },
  {
   "cell_type": "code",
   "execution_count": 194,
   "metadata": {
    "collapsed": false
   },
   "outputs": [
    {
     "name": "stdout",
     "output_type": "stream",
     "text": [
      "WARNING: THIS WILL CLEAR THE DATABASE. ARE YOU SURE? y/ny\n",
      "Database has been cleared.\n"
     ]
    }
   ],
   "source": [
    "clear_mongo(reddit_data)\n",
    "reddit_data = create_or_connect('reddit_database','reddit_comments')\n",
    "reddit_data_pusher(reddit_data,100)"
   ]
  },
  {
   "cell_type": "code",
   "execution_count": 196,
   "metadata": {
    "collapsed": false
   },
   "outputs": [
    {
     "name": "stdout",
     "output_type": "stream",
     "text": [
      "BMW\n",
      "[[u'chappelle', u'https', u'www', u'youtube', u'com', u'watch', u'v', u'4b93boc9ylg']]\n",
      "\n",
      "\n",
      "Smite\n",
      "[[u'finish', u'masters', u'grind', u'1v1', u'joust'], [u'buy', u'everything', u'line', u'hi', u'rez', u'pockets', u'money']]\n",
      "\n",
      "\n",
      "BabyBumps\n",
      "[[u'thought', u'wanted', u'name', u'baby', u'primrose', u'like', u'hmm', u'hate']]\n",
      "\n",
      "\n",
      "randomsuperpowers\n",
      "[[u'slightly', u'stronger', u'rpg']]\n",
      "\n",
      "\n",
      "Android\n",
      "[[u'wish', u'google', u'dropped', u'support', u'android', u'lt', u'4', u'0', u'already']]\n",
      "\n",
      "\n",
      "NSFW_GIF\n",
      "[[u'made', u'multiscreen', u'video', u'sony', u'vegas', u'converted', u'webm']]\n",
      "\n",
      "\n",
      "pokemontrades\n",
      "[[u'please', u'take', u'modest', u'one']]\n",
      "\n",
      "\n",
      "EverythingScience\n",
      "[[u'm', u'going', u'leave', u'puff', u'erfish']]\n",
      "\n",
      "\n",
      "MakeupAddiction\n",
      "[[u'thanks', u'nye', u'makeup']]\n",
      "\n",
      "\n",
      "Wishlist\n",
      "[[u'wish']]\n",
      "\n",
      "\n",
      "nba\n",
      "[[u'thanks', u'making', u'much', u'better']]\n",
      "\n",
      "\n",
      "RandomActsOfSTC\n",
      "[[u'yes', u'please']]\n",
      "\n",
      "\n",
      "techsupport\n",
      "[[u'either', u'power', u'issue', u'dead', u'mainboard', u'suspect', u'short', u'mainboard', u'case']]\n",
      "\n",
      "\n",
      "badkarma\n",
      "[[u'http', u'imgur', u'com', u'4zdga3w', u'jpg']]\n",
      "\n",
      "\n",
      "beercanada\n",
      "[[u'thats', u'ones', u'gonna', u'age', u'another', u'year']]\n",
      "\n",
      "\n",
      "leagueoflegends\n",
      "[[u're', u'100', u'right', u'naut', u'one', u'tanks', u'm', u'comfortable', u'playing', u'lane', u'm', u'awful', u'tank', u've', u'always', u'felt', u'meh', u'w', u'like', u'hitting', u'stuff', u'giant', u'anchor', u'apply', u'dot', u'feel', u'like', u'could', u'made', u'much', u'better', u'especially', u'passive', u'q', u'e', u'ult', u'iconic', u'fulfilling']]\n",
      "\n",
      "\n",
      "HistoricalPowers\n",
      "[[u'accepting', u'schillings', u'want', u'land']]\n",
      "\n",
      "\n",
      "nfl\n",
      "[[u'orton', u'effect']]\n",
      "\n",
      "\n",
      "MLPLounge\n",
      "[[u'hellohuman', u'ms', u'paint', u'plagiarism', u'best', u'plagiarism'], [u'helpful', u'thread'], [u'mind', u'sharing', u'senpai', u'rest', u'us', u'think', u'could', u'share', u'7', u'billion', u'person', u'harem']]\n",
      "\n",
      "\n",
      "videos\n",
      "[[u'op', u'john', u'travolta', u'adele', u'dazeem', u'https', u'www', u'youtube', u'com', u'watch', u'v', u'recg1wlb', u'la']]\n",
      "\n",
      "\n",
      "hockey\n",
      "[[u'always', u'forget', u'bold', u'mobile'], [u'didn', u'really', u'make', u'much', u'contact', u'didn', u'stop', u'goalie', u'making', u'save', u'also', u'puck', u'crease', u'fair', u'game']]\n",
      "\n",
      "\n",
      "Metroid\n",
      "[[u'tough', u'question', u'play', u'metroid', u'exploration', u'isolation', u'lot', u'potential', u'sci', u'fi', u'setting', u'various', u'bounty', u'hunters', u'would', u'pleased', u'multiplayer', u'online', u'didn', u'take', u'away', u'singleplayer', u'potential']]\n",
      "\n",
      "\n",
      "gwcumsluts\n",
      "[[u'really', u'awesome', u'especially', u'liked', u'glasses', u'picture']]\n",
      "\n",
      "\n",
      "Portland\n",
      "[[u'makes', u'sense', u'hopefully', u'april', u'novick', u'final', u'ly', u'able', u'come', u'solution', u'uber', u'driver', u'question']]\n",
      "\n",
      "\n",
      "TrollXChromosomes\n",
      "[[u'greater', u'good']]\n",
      "\n",
      "\n",
      "casualiama\n",
      "[[u'kind', u'shoes']]\n",
      "\n",
      "\n",
      "pokemon\n",
      "[[u'guess', u'sucks', u'suck']]\n",
      "\n",
      "\n",
      "twinks\n",
      "[[u'love', u'piercing']]\n",
      "\n",
      "\n",
      "exmormon\n",
      "[[u'us', u'family', u'members', u'like', u'family', u'like']]\n",
      "\n",
      "\n",
      "CanadaPolitics\n",
      "[[u'mill', u'career', u'way', u'better', u'bentham', u'like', u'joseph', u'smith', u'mill', u'brigham', u'young']]\n",
      "\n",
      "\n",
      "AdviceAnimals\n",
      "[[u'mine', u'uses', u'strait', u'razor', u'much', u'love', u'clippers', u'love', u'razor', u'much', u'follows', u'warm', u'towel', u'think', u'might', u'go', u'get', u'hair', u'cut', u'week'], []]\n",
      "\n",
      "\n",
      "freedonuts\n",
      "[[u'fast', u'thank']]\n",
      "\n",
      "\n",
      "needadvice\n",
      "[[u'great', u'question', u'want', u'thank', u'asking', u'however', u'answers', u'm', u'interested', u'learning']]\n",
      "\n",
      "\n",
      "summonerschool\n",
      "[[u'ie', u'shiv', u'ghostblade', u'zerks', u'lw', u'bt', u'still', u'main', u'graves', u'build', u'60', u'crit', u'think', u'massive', u'attack', u'speed', u'decent', u'ad', u'plus', u'pen']]\n",
      "\n",
      "\n",
      "BostonBruins\n",
      "[[u'd']]\n",
      "\n",
      "\n",
      "sausagetalk\n",
      "[[u'know', u'describe', u'gently', u'pinched', u'two', u'spots', u'weiner', u'length', u'apart', u'twisted', u'3or', u'4', u'times']]\n",
      "\n",
      "\n",
      "hiphopheads\n",
      "[[u'says', u'g']]\n",
      "\n",
      "\n",
      "explainlikeimfive\n",
      "[[u'love', u'music']]\n",
      "\n",
      "\n",
      "Naruto\n",
      "[[u'mean', u'village', u'hidden', u'filler', u'complaints', u'right']]\n",
      "\n",
      "\n",
      "GCXRep\n",
      "[[]]\n",
      "\n",
      "\n",
      "Games\n",
      "[[u'enjoy', u'deep', u'100', u'hour', u'rpgs', u'definitely', u'worth', u'money'], []]\n",
      "\n",
      "\n",
      "BBW\n",
      "[[]]\n",
      "\n",
      "\n",
      "knives\n",
      "[[u'haha', u'awesome', u'man', u'got', u'grandpa', u'christmas', u'well']]\n",
      "\n",
      "\n",
      "LSD\n",
      "[[u'completely', u'agree', u've', u'spent', u'long', u'staring', u'sober']]\n",
      "\n",
      "\n",
      "changemyview\n",
      "[[u'gt', u'gt', u'woman', u'wants', u'give', u'child', u'adoption', u'named', u'father', u'unable', u'without', u'father', u'consent', u'gt', u'easy', u'enough', u'simply', u'name', u'father', u'women', u'financially', u'responsible', u'named', u'father', u'father', u'isn', u'named', u'hook', u'child', u'support', u'either', u'doesn', u'matter', u're', u'deliberately', u'removing', u'context', u'responding', u'sentences', u'go', u'together', u'form', u'overall', u'argument', u'separately', u'way', u'make', u'sense', u'point', u're', u'intentionally', u'misleading', u'twist', u'want', u'instead', u'actually', u'participating', u'spirit', u'argument']]\n",
      "\n",
      "\n",
      "beertrade\n",
      "[[u'haven', u'still', u'trying', u'get', u'someone', u'commit', u'located']]\n",
      "\n",
      "\n",
      "TumblrInAction\n",
      "[[u'religion', u'doesn', u'set', u'stone', u'creed', u'm', u'assuming']]\n",
      "\n",
      "\n",
      "GrandTheftAutoV\n",
      "[[u'hey', u'rocky', u'watch', u'board', u'train', u'presto']]\n",
      "\n",
      "\n",
      "WTF\n",
      "[[u'guy', u'professional', u'good', u'highly', u'doubt', u'misses', u'often'], [u'math', u'prof', u'doesn', u'rides', u'says', u'look', u'people', u'put', u'rides', u'together', u'theyre', u'stoned']]\n",
      "\n",
      "\n",
      "HannibalTV\n",
      "[[u'agreed', u'get', u'sale']]\n",
      "\n",
      "\n",
      "pics\n",
      "[[u'tumblr', u'leaking']]\n",
      "\n",
      "\n",
      "worldnews\n",
      "[[u'vast', u'majority', u'countries', u'world', u'recognize', u'state', u'palestine', u'btw', u'addition', u'state', u'israel']]\n",
      "\n",
      "\n",
      "Mustang\n",
      "[[]]\n",
      "\n",
      "\n",
      "guitarpedals\n",
      "[[u'thank', u'certainly']]\n",
      "\n",
      "\n",
      "movies\n",
      "[[u'goonies']]\n",
      "\n",
      "\n",
      "devils\n",
      "[[u'll', u'try', u'find', u'good', u'pair', u'nye', u'party', u'report', u'back']]\n",
      "\n",
      "\n",
      "Reformed\n",
      "[[u'love', u'okay', u'based', u'upon', u'point', u'6', u'right', u'christian', u'say', u'sin', u'sin', u'romans', u'7', u'17', u'passage', u'saying', u'something', u'quite', u'different', u'ryle', u'understands', u'mean']]\n",
      "\n",
      "\n",
      "wow\n",
      "[[u'like', u'idea', u'though', u'confirm', u'though', u'technically', u'6', u'bosses', u'dropped', u'loot', u'needed', u'lost', u'mean', u'get', u'24', u'counter', u'points', u'lose', u'even', u'using', u'counters', u'mean', u'lost', u'duration', u'raid', u'like', u'kargath', u'drops', u'something', u'need', u'lose', u'loot', u'get', u'4', u'roll', u'butcher', u'drops', u'weapon', u'still', u'lose', u'counter', u'apply', u'would', u'get', u'8', u'next', u'boss', u'still', u'lost']]\n",
      "\n",
      "\n",
      "Stacked\n",
      "[[u'yes']]\n",
      "\n",
      "\n",
      "falcons\n",
      "[[u'haha', u'guilty', u've', u'heard', u'people', u'say', u'weren', u'thrilled', u'guys', u'like', u'mcdaniels', u'del', u'rio', u'well', u'won', u'pass', u'judgement', u'see', u'plays']]\n",
      "\n",
      "\n",
      "dayz\n",
      "[[u'unfortunately', u'time', u'point', u'best', u'cpu', u'gpu', u'available', u'buy', u'still', u'would', u'get', u'30', u'fps', u'cities', u'game', u'optimized', u'specific', u'cpu', u'gpu', u'developers', u'use']]\n",
      "\n",
      "\n",
      "AskReddit\n",
      "[[u'roofers', u'people', u'job', u'site', u'savage', u'rock', u'people'], [u'know', u'100', u'delete', u'comments', u'wrong', u'something', u'like', u'misread', u'question', u'answered', u'misread', u'misinterpreted', u'something', u'm', u'going', u'delete', u'got', u'299', u'489242049t4bit43', u'downvotes'], [u'tried', u'turning'], [u'great', u'power', u'6', u'7', u'grandfather', u'came', u'germany', u'around', u'1776', u'ship', u'ride', u'mother', u'dies', u'two', u'weeks', u'boat', u'father', u'dies', u'around', u'9', u'years', u'old', u'sold', u'indigent', u'servant', u'earned', u'independence', u'fighting', u'revolutionary', u'war', u'moved', u'ohio', u'near', u'pittsburgh', u'lived', u'101', u'years', u'old'], [u'r', u'firstworldavjafmasdlfja']]\n",
      "\n",
      "\n",
      "Autos\n",
      "[[u'dodge', u'rampage', u'pretty', u'much', u'pre', u'80s', u'japanese', u'cars', u'original', u'vw', u'scirocco', u'porsche', u'928', u'clean', u'old', u'beetles', u'nissan', u'z', u'series', u'understandable', u'oh', u'fj', u'cruisers', u're', u'neat']]\n",
      "\n",
      "\n",
      "EliteDangerous\n",
      "[[u'one', u'kill', u'pirates', u'unclaimed', u'system', u'wall', u'drop', u'uss', u'wasn', u'attacked', u'would', u'scan', u'ships', u'came', u'sub', u'faction', u'shot', u'add', u'counted']]\n",
      "\n",
      "\n",
      "Celebs\n",
      "[[u'words', u'like', u'awesome', u'smashed', u'decimate', u'action', u'verb', u'blasting', u'roasting', u'cute', u'unique', u'liaise', u'name', u'english', u'language', u'constantly', u'evolving', u'bastardised', u'amalgamated', u'hodgepodge', u'best', u'learn', u'accept']]\n",
      "\n",
      "\n",
      "Insurance\n",
      "[[u'health', u'insurance', u'covered', u'wisdom', u'teeth', u'opposed', u'dental', u'insurance', u'think', u'depends', u'type', u'doctor', u'procedure', u'one', u'mine', u'type', u'specialist', u'dentist', u'might', u'want', u'ask', u'dentist', u'get', u'referred']]\n",
      "\n",
      "\n",
      "childfree\n",
      "[[u'people', u'stop', u'saying', u'phrase', u'entirely', u'invasive', u'many', u'reasons', u'might', u'hurtful', u'maybe', u'person', u'doesn', u'want', u'kids', u'maybe', u'maybe', u'recently', u'tried', u'failed', u'possibly', u'know', u'person', u'feels', u'parent', u'childbearing', u'unless', u'intimate', u'friend', u'comes', u'genetics', u'people', u'downright', u'idiotic', u'inherited', u'bunch', u'stuff', u'mom', u'expensive', u'painful', u'bother', u'entire', u'life', u'luckily', u'good', u'insurance', u'autoimmune', u'disease', u'kid', u'almost', u'killed', u'trying', u'create', u'healthy', u'happy', u'babies', u'would', u'suggested', u'parents', u'get', u'together', u'given', u'history', u'depression', u'early', u'degenerative', u'joint', u'disease', u'sides', u'thing', u'believe', u'right', u'procreate', u're', u'thinking', u'rationally']]\n",
      "\n",
      "\n",
      "playrust\n",
      "[[u'totally', u'agree', u'bladess', u'follow', u'trend', u'opportunity', u'create', u'mutants', u'eerie', u'arse', u'robots', u'may', u'may', u'ex', u'military', u'tech', u'would', u'brilliant', u'latter', u'would', u'suitable', u'rare', u'however', u'make', u'brief', u'encounters', u'even', u'terrifying', u'deadly', u're', u'introduce', u'blueprints', u'like', u'legacy', u'imagine', u'mutants', u'appropriate', u'abandoned', u'buildings', u'loot', u'points', u'cannibalistic', u'bands', u'pushed', u'edge', u'society', u'inhabiting', u'old', u'ruins', u'maybe', u'even', u'one', u'two', u'caves', u'imagine', u'even', u'spawned', u'small', u'bands', u'forests', u'night', u'fuck', u'shit', u'wouldn', u'even', u'leave', u'house']]\n",
      "\n",
      "\n",
      "tifu\n",
      "[[u're', u'talking']]\n",
      "\n",
      "\n",
      "MLS\n",
      "[[u'lot', u'disrespecting', u'league', u'today', u'think', u'll', u'eventually', u'need', u'see', u'garber', u'publicly', u'reprimanding', u'nycfc', u'ownership', u'group', u'doubt', u'would', u'happen', u'though']]\n",
      "\n",
      "\n",
      "elliottsmith\n",
      "[[u'mic', u'city', u'sons', u'would', u'accessible', u'heatmiser', u'record', u'elliott', u'fan', u'recorded', u'shortly', u'self', u'titled', u'album', u'95', u'contains', u'familiar', u'style', u'melodies', u'know', u'solo', u'albums', u'https', u'www', u'youtube', u'com', u'watch', u'v', u'7ohdcgnfsh8', u'good', u'example', u'neil', u'contributions', u'album', u'also', u'decent', u'also', u'really', u'like', u'https', u'www', u'youtube', u'com', u'watch', u'v', u'r2_4hrbx_68', u'amp', u'index', u'4', u'amp', u'list', u'pl3bnh11ylqmppdrhkljxwnux5yglmgebp', u'tune', u'less', u'well', u'known', u'ep', u'yellow', u'5']]\n",
      "\n",
      "\n",
      "roosterteeth\n",
      "[[u'would', u'say', u'coincidence', u'would', u'seem', u'weird', u'death', u'mention', u'minor', u'moment', u'podcast', u'also', u'considering', u'podcast', u'came', u'year', u'ago', u'makes', u'unlikely']]\n",
      "\n",
      "\n",
      "PuzzleAndDragons\n",
      "[[u'thanks']]\n",
      "\n",
      "\n",
      "curvy\n",
      "[[u'karina', u'hart']]\n",
      "\n",
      "\n",
      "funny\n",
      "[[u'r', u'im14andthisisfunny'], [u'wheredugit'], [], [u'really', u'wish', u'could', u'enjoy', u'man', u'glad', u'hear', u'tradition', u'still', u'alive']]\n",
      "\n",
      "\n",
      "todayilearned\n",
      "[[u'hear', u'sdss', u'j122952', u'66', u'112227', u'8', u'heard', u'talking', u'shit', u're', u'coming', u'ya']]\n",
      "\n",
      "\n",
      "dbz\n",
      "[[u'frieza', u'training', u'sooooo', u'doubt', u'got', u'powers', u'someone', u'else', u'revived', u'training', u'new', u'form', u'makes', u'much', u'powerful', u'pretty', u'simple', u'basic']]\n",
      "\n",
      "\n",
      "thelastofus\n",
      "[[u'supreme', u'unleaded', u'real', u'label', u'gas', u'anywhere', u've', u'never', u'seen', u'regular', u'super', u'unleaded', u'premium']]\n",
      "\n",
      "\n",
      "news\n",
      "[[u'gentleman', u'scholar', u'know', u'fucking', u'hard', u'concept', u'understand', u'people', u'police', u'part', u'society'], [u'old', u'people', u'died', u'hard', u'pin', u'guilt', u'sweet', u'old', u'couple'], [u'illegal', u'enough', u'get', u'roughed', u'bit', u'detained']]\n",
      "\n",
      "\n",
      "headphones\n",
      "[[u'probably', u'wouldn', u'even', u'talking', u'couple', u'shots', u'calmly', u'walk', u'away', u'smoke', u'clears', u'counting', u'upvotes']]\n",
      "\n",
      "\n",
      "DestinyTheGame\n",
      "[[u've', u'always', u'wondered', u'couldn', u'provide', u'list', u'similar', u'roster', u'screen', u'roster', u'screen', u'could', u'least', u'pop', u'list', u'hover', u'instead', u'click', u'back']]\n",
      "\n",
      "\n",
      "Seattle\n",
      "[[u'great', u'shot', u'would', u'happen', u'higher', u'wallpaper', u'sized', u'copy']]\n",
      "\n",
      "\n",
      "Cardinals\n",
      "[[u'hey', u'made', u'one', u'stores']]\n",
      "\n",
      "\n",
      "mildlyinfuriating\n",
      "[[u'amp', u'009', u'amp', u'009', u'amp', u'009', u'brutalist', u'architecture', u'https', u'en', u'wikipedia', u'org', u'wiki', u'brutalist', u'20architecture', u'sfw', u'gt', u'gt', u'__brutalist', u'architecture__', u'movement', u'architecture', u'flourished', u'1950s', u'mid', u'1970s', u'descended', u'modernist', u'architectural', u'https', u'en', u'wikipedia', u'org', u'wiki', u'modern_architecture', u'movement', u'early', u'20th', u'century', u'term', u'derive', u'word', u'brutal', u'originates', u'french', u'b\\xe9ton', u'brut', u'raw', u'concrete', u'term', u'used', u'le', u'corbusier', u'https', u'en', u'wikipedia', u'org', u'wiki', u'le_corbusier', u'describe', u'choice', u'material', u'british', u'architectural', u'https', u'en', u'wikipedia', u'org', u'wiki', u'architecture_of_the_united_kingdom', u'critic', u'reyner', u'banham', u'https', u'en', u'wikipedia', u'org', u'wiki', u'reyner_banham', u'adapted', u'term', u'brutalism', u'originally', u'new', u'brutalism', u'identify', u'emerging', u'style', u'gt', u'brutalism', u'became', u'popular', u'governmental', u'institutional', u'clients', u'numerous', u'examples', u'britain', u'france', u'germany', u'japan', u'united', u'states', u'canada', u'brazil', u'philippines', u'australia', u'examples', u'typically', u'massive', u'character', u'even', u'large', u'fortress', u'like', u'https', u'en', u'wikipedia', u'org', u'wiki', u'fortification', u'predominance', u'exposed', u'concrete', u'https', u'en', u'wikipedia', u'org', u'wiki', u'concrete', u'construction', u'case', u'brick', u'brutalists', u'ruggedly', u'detailed', u'brickwork', u'concrete', u'together', u'often', u'emphasis', u'graphically', u'expressing', u'external', u'elevations', u'whole', u'site', u'plan', u'main', u'functions', u'people', u'flows', u'buildings', u'brutalism', u'became', u'popular', u'educational', u'buildings', u'especially', u'university', u'buildings', u'relatively', u'rare', u'corporate', u'projects', u'brutalism', u'became', u'favoured', u'many', u'government', u'projects', u'high', u'rise', u'housing', u'shopping', u'centres', u'https', u'en', u'wikipedia', u'org', u'wiki', u'shopping_mall', u'create', u'architectural', u'image', u'communicated', u'strength', u'functionality', u'frank', u'expression', u'materiality', u'gt', u'ruggedness', u'lack', u'concern', u'look', u'comfortable', u'easy', u'brutalism', u'seen', u'reaction', u'younger', u'generation', u'lightness', u'optimism', u'frivolity', u'1930s', u'1940s', u'architecture', u'one', u'critical', u'appraisal', u'banham', u'brutalism', u'posited', u'style', u'expression', u'atmosphere', u'among', u'architects', u'moral', u'seriousness', u'brutalism', u'architectural', u'critical', u'term', u'always', u'consistently', u'used', u'critics', u'architects', u'usually', u'avoided', u'using', u'altogether', u'recently', u'brutalism', u'become', u'used', u'popular', u'discourse', u'refer', u'buildings', u'late', u'twentieth', u'century', u'large', u'unpopular', u'synonym', u'brutal', u'making', u'effective', u'use', u'architectural', u'historical', u'discourse', u'problematic', u'gt', u'gt', u'image', u'https', u'imgur', u'com', u'bk21nrm', u'jpg', u'https', u'commons', u'wikimedia', u'org', u'wiki', u'file', u'dhhs2_by_matthew_bisanz', u'jpg', u'hubert', u'h', u'humphrey', u'building', u'headquarters', u'u', u'department', u'health', u'human', u'services', u'washington', u'd', u'c', u'interesting', u'michener', u'institute', u'https', u'en', u'wikipedia', u'org', u'wiki', u'the_michener_institute', u'regenstein', u'library', u'https', u'en', u'wikipedia', u'org', u'wiki', u'regenstein_library', u'bradfield', u'hall', u'https', u'en', u'wikipedia', u'org', u'wiki', u'bradfield_hall', u'murray', u'd', u'lincoln', u'campus', u'center', u'https', u'en', u'wikipedia', u'org', u'wiki', u'murray_d', u'_lincoln_campus_center', u'parent', u'commenter', u'toggle', u'nsfw', u'message', u'compose', u'autowikibot', u'amp', u'subject', u'autowikibot', u'nsfw', u'toggle', u'amp', u'message', u'2btoggle', u'nsfw', u'cnas92m', u'delete', u'message', u'compose', u'autowikibot', u'amp', u'subject', u'autowikibot', u'deletion', u'amp', u'message', u'2bdelete', u'cnas92m', u'also', u'delete', u'comment', u'score', u'1', u'less', u'faqs', u'http', u'www', u'np', u'reddit', u'com', u'r', u'autowikibot', u'wiki', u'index', u'mods', u'http', u'www', u'np', u'reddit', u'com', u'r', u'autowikibot', u'comments', u'1x013o', u'for_moderators_switches_commands_and_css', u'magic', u'words', u'http', u'www', u'np', u'reddit', u'com', u'r', u'autowikibot', u'comments', u'1ux484', u'ask_wikibot']]\n",
      "\n",
      "\n"
     ]
    }
   ],
   "source": [
    "\n",
    "for obj in reddit_data.find():\n",
    "    print obj['subreddit']\n",
    "    print obj['body']\n",
    "    print '\\n'"
   ]
  },
  {
   "cell_type": "code",
   "execution_count": 88,
   "metadata": {
    "collapsed": false
   },
   "outputs": [
    {
     "data": {
      "text/plain": [
       "{u'n': 1, u'nModified': 1, u'ok': 1, 'updatedExisting': True}"
      ]
     },
     "execution_count": 88,
     "metadata": {},
     "output_type": "execute_result"
    }
   ],
   "source": [
    "\n",
    "# update the email address and the score at the same time \n",
    "# using $set in a single write. \n",
    "collection.update({\"_id\":\"subreddit3\"},\n",
    "{\"$push\":{\"value\":['this','is','even','more',]}}, safe=True)\n"
   ]
  },
  {
   "cell_type": "code",
   "execution_count": null,
   "metadata": {
    "collapsed": false
   },
   "outputs": [],
   "source": [
    "# testing\n",
    "\n",
    "# insert an article and print out it's contents (make sure it's there)\n",
    "articles.insert({\"title\": \"tyler's article\"})\n",
    "article = articles.find_one()\n",
    "#article\n",
    "#{u'_id': ObjectId('4f0b353c096f762312000002'), u'title': u\"tyler's article\"}\n",
    "\n",
    "# update the title to something new\n",
    "article['title'] = \"test\"\n",
    "\n",
    "# save it\n",
    "articles.save(article)\n",
    "\n",
    "# check to see if it changed\n",
    "print articles.find_one()\n",
    "#{u'_id': ObjectId('4f0b353c096f762312000002'), u'title': u'test'}"
   ]
  },
  {
   "cell_type": "code",
   "execution_count": null,
   "metadata": {
    "collapsed": true
   },
   "outputs": [],
   "source": [
    "from pymongo import Connection\n",
    "\n",
    "# Example dictionary\n",
    "d = {'greetings' : ['hi','hello'], 'askreddit' : ['what','who','why'], 'subreddit3' : ['text1','text2']}\n",
    "\n",
    "\n",
    "#conn = Connection()\n",
    "#db = conn['example-database']\n",
    "#collection = db['example-collection']\n",
    "\n",
    "for sub, body in d.items():\n",
    "    collection.save({'_id' : sub, 'value' : body})\n",
    "# testing\n",
    "newD = {}\n",
    "for obj in collection.find():\n",
    "    newD[obj['_id']] = obj['value']\n",
    "print newD\n",
    "# output is: {u'string2': 2, u'string3': 3, u'string1': 1}"
   ]
  }
 ],
 "metadata": {
  "kernelspec": {
   "display_name": "Python 2",
   "language": "python",
   "name": "python2"
  },
  "language_info": {
   "codemirror_mode": {
    "name": "ipython",
    "version": 2
   },
   "file_extension": ".py",
   "mimetype": "text/x-python",
   "name": "python",
   "nbconvert_exporter": "python",
   "pygments_lexer": "ipython2",
   "version": "2.7.10"
  }
 },
 "nbformat": 4,
 "nbformat_minor": 0
}
