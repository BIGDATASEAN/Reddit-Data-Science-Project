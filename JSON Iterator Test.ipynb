{
 "cells": [
  {
   "cell_type": "code",
   "execution_count": 13,
   "metadata": {
    "collapsed": false
   },
   "outputs": [
    {
     "name": "stdout",
     "output_type": "stream",
     "text": [
      "a string of text\n"
     ]
    }
   ],
   "source": [
    "import json\n",
    "from nltk.corpus import stopwords\n",
    "import shelve\n",
    "\n",
    "stop_words = stopwords.words('english')\n",
    "\n",
    "def parse_time():\n",
    "    count = 0\n",
    "    f = open('/Volumes/Seagate Backup Plus Drive 1/RC_2015-01')\n",
    "    #objects = ijson.items(f,'subreddit.item')\n",
    "    for jsonline in f:\n",
    "        count += 1\n",
    "        if count < 20:\n",
    "            print json.loads(jsonline)['subreddit']\n",
    "            print json.loads(jsonline)['body']\n",
    "            print '\\n'\n",
    "        else:\n",
    "            break\n",
    "\n",
    "\n",
    "\n",
    "d = shelve.open('my_test_shelf') # open -- file may get suffix added by low-level\n",
    "                          # library\n",
    "\n",
    "d['a test'] = 'a string of text'   # store data at key (overwrites old data if\n",
    "                # using an existing key)\n",
    "\n",
    "data = d['a test']   # retrieve a COPY of data at key (raise KeyError if no\n",
    "                # such key)\n",
    "\n",
    "print data\n",
    "    \n",
    "# if no such key)\n",
    "key_list = ['a test','tester']\n",
    "\n",
    "\n",
    "\n",
    "for key in key_list:\n",
    "\n",
    "    if d.has_key(key):\n",
    "\n",
    "# having opened d without writeback=True, you need to code carefully:\n",
    "        temp = d[key]      # extracts the copy\n",
    "        temp +' '+'New stuff'    # mutates the copy\n",
    "        d[key] = temp      # stores the copy right back, to persist it\n",
    "\n",
    "\n",
    "d.close()   \n",
    "        \n",
    "#parse_time()"
   ]
  },
  {
   "cell_type": "code",
   "execution_count": 10,
   "metadata": {
    "collapsed": false
   },
   "outputs": [
    {
     "data": {
      "text/plain": [
       "\"what what i don't know\""
      ]
     },
     "execution_count": 10,
     "metadata": {},
     "output_type": "execute_result"
    }
   ],
   "source": [
    "d = shelve.open('my_test_shelf.db')"
   ]
  },
  {
   "cell_type": "code",
   "execution_count": null,
   "metadata": {
    "collapsed": true
   },
   "outputs": [],
   "source": []
  }
 ],
 "metadata": {
  "kernelspec": {
   "display_name": "Python 2",
   "language": "python",
   "name": "python2"
  },
  "language_info": {
   "codemirror_mode": {
    "name": "ipython",
    "version": 2
   },
   "file_extension": ".py",
   "mimetype": "text/x-python",
   "name": "python",
   "nbconvert_exporter": "python",
   "pygments_lexer": "ipython2",
   "version": "2.7.10"
  }
 },
 "nbformat": 4,
 "nbformat_minor": 0
}
